{
 "cells": [
  {
   "cell_type": "code",
   "execution_count": 29,
   "id": "bc341b37",
   "metadata": {},
   "outputs": [],
   "source": [
    "import pandas as pd"
   ]
  },
  {
   "cell_type": "code",
   "execution_count": 30,
   "id": "731bfab7",
   "metadata": {},
   "outputs": [],
   "source": []
  },
  {
   "cell_type": "code",
   "execution_count": 44,
   "id": "3a9c1b01",
   "metadata": {},
   "outputs": [
    {
     "name": "stdout",
     "output_type": "stream",
     "text": [
      "     Participant_ID           Song_name             Artist  Loudness  \\\n",
      "0                 2          Here again  Elevation Worship    -8.210   \n",
      "1                 2           The Stand    Hillsong United    -8.128   \n",
      "2                 2          Here I Bow      Brian Johnson    -7.395   \n",
      "3                 3           On my way        Alan Walker    -5.952   \n",
      "4                 3             Bad guy      Billie Eilish   -10.965   \n",
      "..              ...                 ...                ...       ...   \n",
      "201              70  Spit On A stranger           Pavement   -11.084   \n",
      "202              70    The Night We Met        Lord Huron     -9.514   \n",
      "203              71         Do It Again  Elevation Worship    -7.555   \n",
      "204              71   Bright As the Sun   Hillsong Worship    -8.749   \n",
      "205              71              Oceans    Hillsong United   -10.196   \n",
      "\n",
      "    Sentiment_class Mental_health_severity_class  \n",
      "0          Positive                          Low  \n",
      "1          Positive                          Low  \n",
      "2          Positive                          Low  \n",
      "3          Positive                          Med  \n",
      "4          Positive                          Med  \n",
      "..              ...                          ...  \n",
      "201        Positive                          Med  \n",
      "202        Positive                          Med  \n",
      "203        Positive                          Med  \n",
      "204        Positive                          Med  \n",
      "205        Positive                          Med  \n",
      "\n",
      "[206 rows x 6 columns]\n"
     ]
    }
   ],
   "source": [
    "def ReadData():\n",
    "    read_data =  pd.read_excel (r'C:\\Users\\Denis\\Documents\\master_song_data_mental_health.xlsx')\n",
    "    frame = pd.DataFrame(read_data, columns = ['Participant_ID','Song_name', 'Artist', \n",
    "                                           'Loudness','Sentiment_class',\n",
    "                                              'Audio + Lyrics analysis'])\n",
    "print(frame)\n"
   ]
  },
  {
   "cell_type": "code",
   "execution_count": null,
   "id": "351f4538",
   "metadata": {},
   "outputs": [],
   "source": []
  },
  {
   "cell_type": "code",
   "execution_count": null,
   "id": "44a08ce9",
   "metadata": {},
   "outputs": [],
   "source": []
  }
 ],
 "metadata": {
  "kernelspec": {
   "display_name": "Python 3",
   "language": "python",
   "name": "python3"
  },
  "language_info": {
   "codemirror_mode": {
    "name": "ipython",
    "version": 3
   },
   "file_extension": ".py",
   "mimetype": "text/x-python",
   "name": "python",
   "nbconvert_exporter": "python",
   "pygments_lexer": "ipython3",
   "version": "3.8.8"
  }
 },
 "nbformat": 4,
 "nbformat_minor": 5
}
